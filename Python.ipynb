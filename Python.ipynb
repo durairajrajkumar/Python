{
  "nbformat": 4,
  "nbformat_minor": 0,
  "metadata": {
    "colab": {
      "name": "Python.ipynb",
      "provenance": [],
      "collapsed_sections": [],
      "authorship_tag": "ABX9TyMU5z0dTQI55ATCBqKq2FBl",
      "include_colab_link": true
    },
    "kernelspec": {
      "name": "python3",
      "display_name": "Python 3"
    }
  },
  "cells": [
    {
      "cell_type": "markdown",
      "metadata": {
        "id": "view-in-github",
        "colab_type": "text"
      },
      "source": [
        "<a href=\"https://colab.research.google.com/github/durairajrajkumar/Python/blob/master/Python.ipynb\" target=\"_parent\"><img src=\"https://colab.research.google.com/assets/colab-badge.svg\" alt=\"Open In Colab\"/></a>"
      ]
    },
    {
      "cell_type": "code",
      "metadata": {
        "id": "DjT54qf3phJp",
        "colab_type": "code",
        "outputId": "170d2e40-f803-447a-ed99-0be15a239f1a",
        "colab": {
          "base_uri": "https://localhost:8080/",
          "height": 34
        }
      },
      "source": [
        "print (\"hello world\")\n"
      ],
      "execution_count": 0,
      "outputs": [
        {
          "output_type": "stream",
          "text": [
            "hello world\n"
          ],
          "name": "stdout"
        }
      ]
    },
    {
      "cell_type": "code",
      "metadata": {
        "id": "7E53ERkAqQ99",
        "colab_type": "code",
        "outputId": "441d1fe8-02d1-491c-cdd2-f16376fa873d",
        "colab": {
          "base_uri": "https://localhost:8080/",
          "height": 34
        }
      },
      "source": [
        "print (\"my fifth python session\")"
      ],
      "execution_count": 0,
      "outputs": [
        {
          "output_type": "stream",
          "text": [
            "my fifth python session\n"
          ],
          "name": "stdout"
        }
      ]
    },
    {
      "cell_type": "code",
      "metadata": {
        "id": "yUjH5bLgruAK",
        "colab_type": "code",
        "outputId": "fd3519ea-92f1-48a1-a9b5-c4e7837972a8",
        "colab": {
          "base_uri": "https://localhost:8080/",
          "height": 34
        }
      },
      "source": [
        "a = \"Hello\"\n",
        "b = \"World!\"\n",
        "c= a + b\n",
        "print (c)"
      ],
      "execution_count": 0,
      "outputs": [
        {
          "output_type": "stream",
          "text": [
            "HelloWorld!\n"
          ],
          "name": "stdout"
        }
      ]
    },
    {
      "cell_type": "code",
      "metadata": {
        "id": "fPZqg7MZr2xb",
        "colab_type": "code",
        "outputId": "6a396b7e-25a4-4213-bdb9-96952f18fed0",
        "colab": {
          "base_uri": "https://localhost:8080/",
          "height": 34
        }
      },
      "source": [
        "#Basic Maths \n",
        "2+1\n"
      ],
      "execution_count": 0,
      "outputs": [
        {
          "output_type": "execute_result",
          "data": {
            "text/plain": [
              "3"
            ]
          },
          "metadata": {
            "tags": []
          },
          "execution_count": 9
        }
      ]
    },
    {
      "cell_type": "code",
      "metadata": {
        "id": "miP1SAl3r9Ex",
        "colab_type": "code",
        "outputId": "90a3a31f-d5d9-4d82-ffd0-666841b38e3a",
        "colab": {
          "base_uri": "https://localhost:8080/",
          "height": 34
        }
      },
      "source": [
        "#Addition\n",
        "2+1"
      ],
      "execution_count": 0,
      "outputs": [
        {
          "output_type": "execute_result",
          "data": {
            "text/plain": [
              "3"
            ]
          },
          "metadata": {
            "tags": []
          },
          "execution_count": 11
        }
      ]
    },
    {
      "cell_type": "code",
      "metadata": {
        "id": "7HUfHLJbsB-6",
        "colab_type": "code",
        "outputId": "9e2b92df-3671-411f-9a20-892738305401",
        "colab": {
          "base_uri": "https://localhost:8080/",
          "height": 34
        }
      },
      "source": [
        "#Subtraction\n",
        "3-2"
      ],
      "execution_count": 0,
      "outputs": [
        {
          "output_type": "execute_result",
          "data": {
            "text/plain": [
              "1"
            ]
          },
          "metadata": {
            "tags": []
          },
          "execution_count": 12
        }
      ]
    },
    {
      "cell_type": "code",
      "metadata": {
        "id": "Qfp8YvlAsOrr",
        "colab_type": "code",
        "outputId": "dffbcd7e-d1fe-4395-a000-58ed1d10b2f8",
        "colab": {
          "base_uri": "https://localhost:8080/",
          "height": 34
        }
      },
      "source": [
        "#Multiplication\n",
        "3*3"
      ],
      "execution_count": 0,
      "outputs": [
        {
          "output_type": "execute_result",
          "data": {
            "text/plain": [
              "9"
            ]
          },
          "metadata": {
            "tags": []
          },
          "execution_count": 13
        }
      ]
    },
    {
      "cell_type": "code",
      "metadata": {
        "id": "5s8B3MTSseVT",
        "colab_type": "code",
        "outputId": "459c419e-9ee6-4369-9285-a2583c43f377",
        "colab": {
          "base_uri": "https://localhost:8080/",
          "height": 34
        }
      },
      "source": [
        "a=222\n",
        "b=333\n",
        "c=444\n",
        "d=555\n",
        "\n",
        "e = a+(b*c)/d\n",
        "print(e)"
      ],
      "execution_count": 0,
      "outputs": [
        {
          "output_type": "stream",
          "text": [
            "488.4\n"
          ],
          "name": "stdout"
        }
      ]
    },
    {
      "cell_type": "code",
      "metadata": {
        "id": "AoGyEZQ0tTYM",
        "colab_type": "code",
        "outputId": "5989130c-67e9-4085-9950-1a03bee501c7",
        "colab": {
          "base_uri": "https://localhost:8080/",
          "height": 34
        }
      },
      "source": [
        "#square\n",
        "2**2"
      ],
      "execution_count": 0,
      "outputs": [
        {
          "output_type": "execute_result",
          "data": {
            "text/plain": [
              "4"
            ]
          },
          "metadata": {
            "tags": []
          },
          "execution_count": 17
        }
      ]
    },
    {
      "cell_type": "code",
      "metadata": {
        "id": "GvJT_KR5tcK0",
        "colab_type": "code",
        "outputId": "771062d9-3a73-4662-9f67-747a89e71b19",
        "colab": {
          "base_uri": "https://localhost:8080/",
          "height": 34
        }
      },
      "source": [
        "62500**8\n"
      ],
      "execution_count": 0,
      "outputs": [
        {
          "output_type": "execute_result",
          "data": {
            "text/plain": [
              "232830643653869628906250000000000000000"
            ]
          },
          "metadata": {
            "tags": []
          },
          "execution_count": 18
        }
      ]
    },
    {
      "cell_type": "code",
      "metadata": {
        "id": "qVF2614Qtg9F",
        "colab_type": "code",
        "outputId": "98044fb2-28d2-4c78-96b7-a5277a9076dd",
        "colab": {
          "base_uri": "https://localhost:8080/",
          "height": 102
        }
      },
      "source": [
        "a=int(input(\"Enter the frist number: \"))\n",
        "b=int(input(\"Enter the second number: \"))\n",
        "c=int(input(\"Enter the third number: \"))\n",
        "d=int(input(\"Enter the fourth number: \"))\n",
        "e=a+(b*c)/d\n",
        "print(\"Your answer is:\", e)"
      ],
      "execution_count": 0,
      "outputs": [
        {
          "output_type": "stream",
          "text": [
            "Enter the frist number: 222\n",
            "Enter the second number: 333\n",
            "Enter the third number: 444\n",
            "Enter the fourth number: 555\n",
            "Your answer is: 488.4\n"
          ],
          "name": "stdout"
        }
      ]
    },
    {
      "cell_type": "code",
      "metadata": {
        "id": "mVOej8aMvfCc",
        "colab_type": "code",
        "outputId": "68b97616-c07d-4f90-ebf0-d269ccba0a50",
        "colab": {
          "base_uri": "https://localhost:8080/",
          "height": 51
        }
      },
      "source": [
        "a=int(input(\"Enter the frist number: \"))\n",
        "if a%2 == 0 :\n",
        " print (\"even\")\n",
        "else:\n",
        " print (\"odd\")"
      ],
      "execution_count": 0,
      "outputs": [
        {
          "output_type": "stream",
          "text": [
            "Enter the frist number: 11111\n",
            "odd\n"
          ],
          "name": "stdout"
        }
      ]
    },
    {
      "cell_type": "code",
      "metadata": {
        "id": "4Yu95Mroy4HR",
        "colab_type": "code",
        "outputId": "b0a2a97e-758b-4197-c6ad-f22fb21f7299",
        "colab": {
          "base_uri": "https://localhost:8080/",
          "height": 34
        }
      },
      "source": [
        "is_male = False\n",
        "if is_male:\n",
        "   print(\"You are a male\")\n",
        "else:\n",
        "   print(\"You are not a male\")\n",
        "\n"
      ],
      "execution_count": 0,
      "outputs": [
        {
          "output_type": "stream",
          "text": [
            "You are not a male\n"
          ],
          "name": "stdout"
        }
      ]
    },
    {
      "cell_type": "code",
      "metadata": {
        "id": "KhPz57oz0YAS",
        "colab_type": "code",
        "outputId": "514c850f-712d-4ece-cea3-c44ae648be8c",
        "colab": {
          "base_uri": "https://localhost:8080/",
          "height": 85
        }
      },
      "source": [
        "#drawig a shape\n",
        "print(\"     /  \\  \")\n",
        "print(\"    /    \\ \")\n",
        "print(\"   /      \\ \")\n",
        "print(\"  / ------ \\ \")"
      ],
      "execution_count": 0,
      "outputs": [
        {
          "output_type": "stream",
          "text": [
            "     /  \\  \n",
            "    /    \\ \n",
            "   /      \\ \n",
            "  / ------ \\ \n"
          ],
          "name": "stdout"
        }
      ]
    },
    {
      "cell_type": "code",
      "metadata": {
        "id": "gNHHTAZ1pRzS",
        "colab_type": "code",
        "colab": {
          "base_uri": "https://localhost:8080/",
          "height": 34
        },
        "outputId": "d6031c7d-82f3-4214-b795-2477cb015c92"
      },
      "source": [
        "3*8"
      ],
      "execution_count": 1,
      "outputs": [
        {
          "output_type": "execute_result",
          "data": {
            "text/plain": [
              "24"
            ]
          },
          "metadata": {
            "tags": []
          },
          "execution_count": 1
        }
      ]
    },
    {
      "cell_type": "code",
      "metadata": {
        "id": "Wcnvmkp9poiO",
        "colab_type": "code",
        "colab": {}
      },
      "source": [
        ""
      ],
      "execution_count": 0,
      "outputs": []
    },
    {
      "cell_type": "code",
      "metadata": {
        "colab_type": "code",
        "outputId": "bc4a7f71-82f2-4e29-dcf7-434618859805",
        "id": "Q9HG6EMKpqEH",
        "colab": {
          "base_uri": "https://localhost:8080/",
          "height": 34
        }
      },
      "source": [
        "a = \"Hello Python \"\n",
        "b = \"World!\"\n",
        "c= a + b\n",
        "print (c)"
      ],
      "execution_count": 3,
      "outputs": [
        {
          "output_type": "stream",
          "text": [
            "Hello Python World!\n"
          ],
          "name": "stdout"
        }
      ]
    }
  ]
}